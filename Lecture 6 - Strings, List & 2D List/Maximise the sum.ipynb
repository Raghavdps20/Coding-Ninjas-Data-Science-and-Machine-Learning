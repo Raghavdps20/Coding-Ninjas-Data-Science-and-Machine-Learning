{
 "cells": [
  {
   "cell_type": "code",
   "execution_count": 1,
   "id": "ec52cd84",
   "metadata": {},
   "outputs": [
    {
     "name": "stdout",
     "output_type": "stream",
     "text": [
      "6\n",
      "1 5 10 15 20 25\n",
      "5\n",
      "2 4 5 9 15\n",
      "81\n"
     ]
    }
   ],
   "source": [
    "m = int(input())\n",
    "arr1 =[int(i) for i in input().split()]\n",
    "n = int(input())\n",
    "arr2 =[int(i) for i in input().split()]\n",
    "\n",
    "maxsum = 0\n",
    "sum1 = 0\n",
    "sum2 = 0\n",
    "i= 0\n",
    "j = 0 \n",
    "\n",
    "while i<m and j<n:\n",
    "\n",
    "    if arr1[i] < arr2[j]:\n",
    "        sum1 += arr1[i]\n",
    "        i += 1\n",
    "    \n",
    "    elif arr1[i] > arr2[j]:\n",
    "        sum2 += arr2[j]\n",
    "        j += 1\n",
    "    \n",
    "    else:\n",
    "        maxsum += max(sum1, sum2) + arr1[i]\n",
    "        sum1 = 0\n",
    "        sum2 = 0\n",
    "        i += 1\n",
    "        j += 1\n",
    "\n",
    "while(i<m):\n",
    "    sum1 = sum1 + arr1[i]\n",
    "    i +=1\n",
    "\n",
    "while(j<n):\n",
    "    sum2 = sum2 + arr2[j]\n",
    "    j +=1\n",
    "\n",
    "maxsum += max(sum1, sum2)\n",
    "\n",
    "print(maxsum)\n",
    "    "
   ]
  },
  {
   "cell_type": "code",
   "execution_count": null,
   "id": "8af61dcf",
   "metadata": {},
   "outputs": [],
   "source": []
  }
 ],
 "metadata": {
  "kernelspec": {
   "display_name": "Python 3 (ipykernel)",
   "language": "python",
   "name": "python3"
  },
  "language_info": {
   "codemirror_mode": {
    "name": "ipython",
    "version": 3
   },
   "file_extension": ".py",
   "mimetype": "text/x-python",
   "name": "python",
   "nbconvert_exporter": "python",
   "pygments_lexer": "ipython3",
   "version": "3.9.12"
  }
 },
 "nbformat": 4,
 "nbformat_minor": 5
}
