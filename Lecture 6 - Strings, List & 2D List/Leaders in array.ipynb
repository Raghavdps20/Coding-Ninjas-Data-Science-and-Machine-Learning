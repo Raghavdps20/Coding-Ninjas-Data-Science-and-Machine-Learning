{
 "cells": [
  {
   "cell_type": "code",
   "execution_count": 2,
   "id": "9834d02b",
   "metadata": {},
   "outputs": [
    {
     "name": "stdout",
     "output_type": "stream",
     "text": [
      "6\n",
      "3 12 34 2 0 -1\n",
      "34 2 0 -1 "
     ]
    }
   ],
   "source": [
    "n = int(input())\n",
    "\n",
    "x = [int(i) for i in input().split()]\n",
    "\n",
    "for i in range(n):\n",
    "    check = 0\n",
    "    for j in range(i+1,n):\n",
    "        if(x[j]>x[i]):\n",
    "            check = 1\n",
    "            break\n",
    "    \n",
    "    if(check == 0):\n",
    "        print(x[i], end = \" \")"
   ]
  },
  {
   "cell_type": "markdown",
   "id": "3f6d27ff",
   "metadata": {},
   "source": []
  }
 ],
 "metadata": {
  "kernelspec": {
   "display_name": "Python 3 (ipykernel)",
   "language": "python",
   "name": "python3"
  },
  "language_info": {
   "codemirror_mode": {
    "name": "ipython",
    "version": 3
   },
   "file_extension": ".py",
   "mimetype": "text/x-python",
   "name": "python",
   "nbconvert_exporter": "python",
   "pygments_lexer": "ipython3",
   "version": "3.9.12"
  }
 },
 "nbformat": 4,
 "nbformat_minor": 5
}
