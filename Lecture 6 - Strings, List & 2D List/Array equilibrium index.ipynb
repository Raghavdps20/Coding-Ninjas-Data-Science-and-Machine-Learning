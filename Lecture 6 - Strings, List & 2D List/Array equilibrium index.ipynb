{
 "cells": [
  {
   "cell_type": "code",
   "execution_count": 2,
   "id": "fffe9483",
   "metadata": {},
   "outputs": [],
   "source": [
    "from sys import stdin\n",
    "\n",
    "def arrayEquilibriumIndex(arr, n) :\n",
    "\n",
    "    check = 0\n",
    "\n",
    "    for i in range(0,n):\n",
    "        left = arr[:i]\n",
    "        right = arr[i+1:]\n",
    "\n",
    "        if sum(left) == sum(right):\n",
    "            check = 1\n",
    "            pivot = i\n",
    "            return pivot\n",
    "            \n",
    "    if(check == 0):\n",
    "        return -1\n",
    "    \n",
    "\n",
    "\n",
    "#Taking input using fast I/O method\n",
    "def takeInput() :\n",
    "    n = int(stdin.readline().strip())\n",
    "    if n == 0 :\n",
    "        return list(), 0\n",
    "\n",
    "    arr = list(map(int, stdin.readline().strip().split(\" \")))\n",
    "    return arr, n\n",
    "\n",
    "\n",
    "def printList(arr, n) : \n",
    "    for i in range(n) :\n",
    "        print(arr[i], end = \" \")\n",
    "    print()\n",
    "\n",
    "\n"
   ]
  },
  {
   "cell_type": "code",
   "execution_count": null,
   "id": "810a0fc1",
   "metadata": {},
   "outputs": [],
   "source": [
    "#main\n",
    "t = int(stdin.readline().strip())\n",
    "\n",
    "while t > 0 :\n",
    "    \n",
    "    arr, n = takeInput()\n",
    "    print(arrayEquilibriumIndex(arr, n))\n",
    "\n",
    "    t-= 1"
   ]
  }
 ],
 "metadata": {
  "kernelspec": {
   "display_name": "Python 3 (ipykernel)",
   "language": "python",
   "name": "python3"
  },
  "language_info": {
   "codemirror_mode": {
    "name": "ipython",
    "version": 3
   },
   "file_extension": ".py",
   "mimetype": "text/x-python",
   "name": "python",
   "nbconvert_exporter": "python",
   "pygments_lexer": "ipython3",
   "version": "3.9.12"
  }
 },
 "nbformat": 4,
 "nbformat_minor": 5
}
