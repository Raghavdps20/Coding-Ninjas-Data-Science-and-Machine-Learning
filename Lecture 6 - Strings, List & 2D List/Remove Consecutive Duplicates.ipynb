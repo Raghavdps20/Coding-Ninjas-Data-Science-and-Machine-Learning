{
 "cells": [
  {
   "cell_type": "code",
   "execution_count": 1,
   "id": "8c93034b",
   "metadata": {},
   "outputs": [
    {
     "name": "stdout",
     "output_type": "stream",
     "text": [
      "\n"
     ]
    }
   ],
   "source": [
    "\n",
    "from sys import stdin\n",
    "\n",
    "\n",
    "def removeConsecutiveDuplicates(string):\n",
    "    n = len(string)\n",
    "\n",
    "    if n == 0:\n",
    "        return string\n",
    "\n",
    "    answer = \"\"\n",
    "\n",
    "    startIndex = 0\n",
    "\n",
    "    while startIndex < n:\n",
    "\n",
    "        uniqueChar = string[startIndex]\n",
    "        nextUniqueCharIndex = startIndex + 1\n",
    "\n",
    "        while (nextUniqueCharIndex < n) and (string[nextUniqueCharIndex] == uniqueChar):\n",
    "            nextUniqueCharIndex += 1\n",
    "\n",
    "        answer += uniqueChar\n",
    "        startIndex = nextUniqueCharIndex\n",
    "\n",
    "    return answer\n",
    "\n",
    "\n",
    "# main\n",
    "string = stdin.readline().strip()\n",
    "\n",
    "ans = removeConsecutiveDuplicates(string)\n",
    "\n",
    "print(ans)\n"
   ]
  },
  {
   "cell_type": "code",
   "execution_count": null,
   "id": "40f26ed7",
   "metadata": {},
   "outputs": [],
   "source": []
  }
 ],
 "metadata": {
  "kernelspec": {
   "display_name": "Python 3 (ipykernel)",
   "language": "python",
   "name": "python3"
  },
  "language_info": {
   "codemirror_mode": {
    "name": "ipython",
    "version": 3
   },
   "file_extension": ".py",
   "mimetype": "text/x-python",
   "name": "python",
   "nbconvert_exporter": "python",
   "pygments_lexer": "ipython3",
   "version": "3.9.12"
  }
 },
 "nbformat": 4,
 "nbformat_minor": 5
}
