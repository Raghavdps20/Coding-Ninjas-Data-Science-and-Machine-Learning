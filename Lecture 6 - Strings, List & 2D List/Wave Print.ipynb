{
 "cells": [
  {
   "cell_type": "code",
   "execution_count": 1,
   "id": "daad5f9c",
   "metadata": {},
   "outputs": [],
   "source": [
    "from sys import stdin\n",
    "\n",
    "def wavePrint(mat, nRows, mCols):\n",
    "    #Your code goes here\n",
    "\n",
    "    count = 0\n",
    "    i=0\n",
    "    j=0\n",
    "\n",
    "    while (j < mCols and i < nRows):\n",
    "        \n",
    "        while(i <= nRows-1):\n",
    "            print(mat[i][j], end = \" \")\n",
    "            i += 1\n",
    "            count += 1\n",
    "\n",
    "        i -= 1\n",
    "        j += 1\n",
    "\n",
    "        while(i >= 0 and count < nRows * mCols):\n",
    "            print(mat[i][j], end = \" \")\n",
    "            i -= 1\n",
    "            count += 1\n",
    "        \n",
    "        i +=1\n",
    "        j +=1\n",
    "        "
   ]
  },
  {
   "cell_type": "code",
   "execution_count": null,
   "id": "178d8783",
   "metadata": {},
   "outputs": [],
   "source": [
    "\n",
    "#Taking Iput Using Fast I/O\n",
    "def take2DInput() :\n",
    "    li = stdin.readline().rstrip().split(\" \")\n",
    "    nRows = int(li[0])\n",
    "    mCols = int(li[1])\n",
    "    \n",
    "    if nRows == 0 :\n",
    "        return list(), 0, 0\n",
    "    \n",
    "    mat = [list(map(int, input().strip().split(\" \"))) for row in range(nRows)]\n",
    "    return mat, nRows, mCols\n",
    "\n",
    "\n",
    "#main\n",
    "t = int(stdin.readline().rstrip())\n",
    "\n",
    "while t > 0 :\n",
    "\n",
    "    mat, nRows, mCols = take2DInput()\n",
    "    wavePrint(mat, nRows, mCols)\n",
    "    print()\n",
    "\n",
    "    t -= 1"
   ]
  }
 ],
 "metadata": {
  "kernelspec": {
   "display_name": "Python 3 (ipykernel)",
   "language": "python",
   "name": "python3"
  },
  "language_info": {
   "codemirror_mode": {
    "name": "ipython",
    "version": 3
   },
   "file_extension": ".py",
   "mimetype": "text/x-python",
   "name": "python",
   "nbconvert_exporter": "python",
   "pygments_lexer": "ipython3",
   "version": "3.9.12"
  }
 },
 "nbformat": 4,
 "nbformat_minor": 5
}
