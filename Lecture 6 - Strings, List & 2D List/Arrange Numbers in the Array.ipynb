{
 "cells": [
  {
   "cell_type": "code",
   "execution_count": 3,
   "id": "18a2c81b",
   "metadata": {},
   "outputs": [],
   "source": [
    "from sys import stdin\n",
    "\n",
    "def arrange(arr, n) :\n",
    "\n",
    "    count = 0\n",
    "\n",
    "    for i in range(1,n+1,1):\n",
    "        if(i%2 != 0):\n",
    "            arr[count] = i\n",
    "            count += 1\n",
    "\n",
    "    for j in range(n, 0 , -1):\n",
    "        if(j%2 == 0):\n",
    "            arr[count] = j\n",
    "            count += 1\n"
   ]
  },
  {
   "cell_type": "code",
   "execution_count": 4,
   "id": "d8296469",
   "metadata": {},
   "outputs": [],
   "source": [
    "#to print the array/list\n",
    "def printList(arr, n) :\n",
    "    for i in range(n) :\n",
    "        print(arr[i], end = ' ')\n",
    "    print()\n"
   ]
  },
  {
   "cell_type": "code",
   "execution_count": null,
   "id": "5d69f4eb",
   "metadata": {},
   "outputs": [],
   "source": [
    "\n",
    "#main\n",
    "t = int(stdin.readline().strip())\n",
    "\n",
    "while t > 0 :\n",
    "    n = int(stdin.readline().strip())\n",
    "    arr = n * [0]\n",
    "    arrange(arr, n)\n",
    "    printList(arr, n)\n",
    "    t -= 1"
   ]
  }
 ],
 "metadata": {
  "kernelspec": {
   "display_name": "Python 3 (ipykernel)",
   "language": "python",
   "name": "python3"
  },
  "language_info": {
   "codemirror_mode": {
    "name": "ipython",
    "version": 3
   },
   "file_extension": ".py",
   "mimetype": "text/x-python",
   "name": "python",
   "nbconvert_exporter": "python",
   "pygments_lexer": "ipython3",
   "version": "3.9.12"
  }
 },
 "nbformat": 4,
 "nbformat_minor": 5
}
