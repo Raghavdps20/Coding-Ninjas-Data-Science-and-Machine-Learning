{
 "cells": [
  {
   "cell_type": "code",
   "execution_count": 1,
   "id": "a139e10b",
   "metadata": {},
   "outputs": [
    {
     "name": "stdout",
     "output_type": "stream",
     "text": [
      "32\n",
      "108\n",
      "4\n",
      "32 0\n",
      "36 2\n",
      "40 4\n",
      "44 6\n",
      "48 8\n",
      "52 11\n",
      "56 13\n",
      "60 15\n",
      "64 17\n",
      "68 20\n",
      "72 22\n",
      "76 24\n",
      "80 26\n",
      "84 28\n",
      "88 31\n",
      "92 33\n",
      "96 35\n",
      "100 37\n",
      "104 40\n",
      "108 42\n"
     ]
    }
   ],
   "source": [
    "s = int(input())\n",
    "e = int(input())\n",
    "w = int(input())\n",
    "\n",
    "while (s <= e):\n",
    "    \n",
    "    c = int((s-32)*5/9)\n",
    "    print(str(s) + ' ' + str(c))\n",
    "    s = s + w\n"
   ]
  },
  {
   "cell_type": "code",
   "execution_count": null,
   "id": "1cf4210f",
   "metadata": {},
   "outputs": [],
   "source": []
  }
 ],
 "metadata": {
  "kernelspec": {
   "display_name": "Python 3 (ipykernel)",
   "language": "python",
   "name": "python3"
  },
  "language_info": {
   "codemirror_mode": {
    "name": "ipython",
    "version": 3
   },
   "file_extension": ".py",
   "mimetype": "text/x-python",
   "name": "python",
   "nbconvert_exporter": "python",
   "pygments_lexer": "ipython3",
   "version": "3.9.12"
  }
 },
 "nbformat": 4,
 "nbformat_minor": 5
}
