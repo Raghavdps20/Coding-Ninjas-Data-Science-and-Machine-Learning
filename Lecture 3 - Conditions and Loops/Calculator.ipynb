{
 "cells": [
  {
   "cell_type": "code",
   "execution_count": 1,
   "id": "5c89b44a",
   "metadata": {},
   "outputs": [
    {
     "name": "stdout",
     "output_type": "stream",
     "text": [
      "1\n",
      "5\n",
      "6\n",
      "11\n"
     ]
    }
   ],
   "source": [
    "c=1\n",
    "\n",
    "while(c):\n",
    "\n",
    "    c = int(input())\n",
    "\n",
    "    if c == 1:\n",
    "        a = int(input())\n",
    "        b = int(input())\n",
    "        print(a+b)\n",
    "        break\n",
    "\n",
    "    elif c == 2:\n",
    "        a = int(input())\n",
    "        b = int(input())\n",
    "        print(a-b)\n",
    "\n",
    "    elif c == 3:\n",
    "        a = int(input())\n",
    "        b = int(input())\n",
    "        print(a*b)\n",
    "\n",
    "    elif c == 4:\n",
    "        a = int(input())\n",
    "        b = int(input())\n",
    "        print(a//b)\n",
    "\n",
    "    elif c == 5:\n",
    "        a = int(input())\n",
    "        b = int(input())\n",
    "        print(a%b)\n",
    "\n",
    "    elif c == 6:\n",
    "        c=0\n",
    "\n",
    "    else:\n",
    "        print(\"Invalid Operation\")"
   ]
  },
  {
   "cell_type": "code",
   "execution_count": null,
   "id": "f0ea780c",
   "metadata": {},
   "outputs": [],
   "source": []
  }
 ],
 "metadata": {
  "kernelspec": {
   "display_name": "Python 3 (ipykernel)",
   "language": "python",
   "name": "python3"
  },
  "language_info": {
   "codemirror_mode": {
    "name": "ipython",
    "version": 3
   },
   "file_extension": ".py",
   "mimetype": "text/x-python",
   "name": "python",
   "nbconvert_exporter": "python",
   "pygments_lexer": "ipython3",
   "version": "3.9.12"
  }
 },
 "nbformat": 4,
 "nbformat_minor": 5
}
