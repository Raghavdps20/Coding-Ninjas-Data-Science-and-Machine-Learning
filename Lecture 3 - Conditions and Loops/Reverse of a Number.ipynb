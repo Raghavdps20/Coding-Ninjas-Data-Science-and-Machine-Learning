{
 "cells": [
  {
   "cell_type": "code",
   "execution_count": 1,
   "id": "f23cf0fd",
   "metadata": {},
   "outputs": [
    {
     "name": "stdout",
     "output_type": "stream",
     "text": [
      "324\n",
      "423\n"
     ]
    }
   ],
   "source": [
    "n = int(input())\n",
    "newn = 0\n",
    "q=0\n",
    "r=0\n",
    "i=0\n",
    "\n",
    "while n>0:\n",
    "\n",
    "    r = n%10\n",
    "    q = n//10\n",
    "    n = q\n",
    "\n",
    "    newn = newn * (10) + r\n",
    "\n",
    "    i = i+1\n",
    "\n",
    "print(newn)"
   ]
  },
  {
   "cell_type": "code",
   "execution_count": null,
   "id": "876afdc2",
   "metadata": {},
   "outputs": [],
   "source": []
  }
 ],
 "metadata": {
  "kernelspec": {
   "display_name": "Python 3 (ipykernel)",
   "language": "python",
   "name": "python3"
  },
  "language_info": {
   "codemirror_mode": {
    "name": "ipython",
    "version": 3
   },
   "file_extension": ".py",
   "mimetype": "text/x-python",
   "name": "python",
   "nbconvert_exporter": "python",
   "pygments_lexer": "ipython3",
   "version": "3.9.12"
  }
 },
 "nbformat": 4,
 "nbformat_minor": 5
}
