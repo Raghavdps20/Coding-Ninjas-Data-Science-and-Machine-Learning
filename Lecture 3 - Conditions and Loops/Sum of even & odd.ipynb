{
 "cells": [
  {
   "cell_type": "code",
   "execution_count": 1,
   "id": "de495787",
   "metadata": {},
   "outputs": [
    {
     "name": "stdout",
     "output_type": "stream",
     "text": [
      "132456\n",
      "12   9\n"
     ]
    }
   ],
   "source": [
    "n = int(input())\n",
    "newn = 0\n",
    "i=0\n",
    "evensum = 0\n",
    "oddsum = 0\n",
    "\n",
    "\n",
    "while n>0:\n",
    "\n",
    "    r = n%10\n",
    "\n",
    "    if(r%2 == 0):\n",
    "        evensum = evensum + r\n",
    "    else:\n",
    "        oddsum = oddsum + r\n",
    "\n",
    "    n = n//10\n",
    "    newn = newn * (10) + r\n",
    "    i = i+1\n",
    "\n",
    "print(evensum, \" \" , oddsum)"
   ]
  },
  {
   "cell_type": "code",
   "execution_count": null,
   "id": "d48ba9d5",
   "metadata": {},
   "outputs": [],
   "source": []
  }
 ],
 "metadata": {
  "kernelspec": {
   "display_name": "Python 3 (ipykernel)",
   "language": "python",
   "name": "python3"
  },
  "language_info": {
   "codemirror_mode": {
    "name": "ipython",
    "version": 3
   },
   "file_extension": ".py",
   "mimetype": "text/x-python",
   "name": "python",
   "nbconvert_exporter": "python",
   "pygments_lexer": "ipython3",
   "version": "3.9.12"
  }
 },
 "nbformat": 4,
 "nbformat_minor": 5
}
