{
 "cells": [
  {
   "cell_type": "code",
   "execution_count": 1,
   "id": "58cc202a",
   "metadata": {},
   "outputs": [
    {
     "name": "stdout",
     "output_type": "stream",
     "text": [
      "6\n",
      "8\n"
     ]
    }
   ],
   "source": [
    "from math import *\n",
    "from collections import *\n",
    "from sys import *\n",
    "from os import *\n",
    "\n",
    "\n",
    "n = int(input())\n",
    "\n",
    "a = 1\n",
    "b = 1\n",
    "i = 0\n",
    "c = 0\n",
    "\n",
    "if( n == 1 or n == 2):\n",
    "    print(1)\n",
    "\n",
    "else:\n",
    "    while(i<n-2):\n",
    "        c = a+b\n",
    "        a = b\n",
    "        b = c \n",
    "        i = i + 1\n",
    "    \n",
    "    print(c)"
   ]
  },
  {
   "cell_type": "code",
   "execution_count": null,
   "id": "feec71ff",
   "metadata": {},
   "outputs": [],
   "source": []
  }
 ],
 "metadata": {
  "kernelspec": {
   "display_name": "Python 3 (ipykernel)",
   "language": "python",
   "name": "python3"
  },
  "language_info": {
   "codemirror_mode": {
    "name": "ipython",
    "version": 3
   },
   "file_extension": ".py",
   "mimetype": "text/x-python",
   "name": "python",
   "nbconvert_exporter": "python",
   "pygments_lexer": "ipython3",
   "version": "3.9.12"
  }
 },
 "nbformat": 4,
 "nbformat_minor": 5
}
