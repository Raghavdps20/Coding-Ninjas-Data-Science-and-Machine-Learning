{
 "cells": [
  {
   "cell_type": "code",
   "execution_count": 1,
   "id": "8f2f3d6c",
   "metadata": {},
   "outputs": [
    {
     "name": "stdout",
     "output_type": "stream",
     "text": [
      "6\n",
      "   *\n",
      "  ***\n",
      " *****\n",
      "*******\n",
      " *****\n",
      "  ***\n",
      "   *\n"
     ]
    }
   ],
   "source": [
    "from math import *\n",
    "from collections import *\n",
    "from sys import *\n",
    "from os import *\n",
    "\n",
    "## Read input as specified in the question.\n",
    "## Print output as specified in the question.\n",
    "\n",
    "n = int(input())\n",
    "\n",
    "i = 0\n",
    "\n",
    "while  i< (n//2 + 1):\n",
    "\n",
    "    j=0\n",
    "    while(j< n//2 + 1 -i-1):\n",
    "        print( ' ', end = \"\")\n",
    "        j = j+1\n",
    "\n",
    "    j=0\n",
    "    while(j <= i):\n",
    "        print(\"*\", end = '')\n",
    "        j = j+1\n",
    "\n",
    "    j = 0\n",
    "    while ( j < i):\n",
    "        print(\"*\", end = '')\n",
    "        j = j+1\n",
    "\n",
    "    print()\n",
    "    i = i+1\n",
    "\n",
    "i=0\n",
    "while  i< (n//2):\n",
    "\n",
    "    j=0\n",
    "    while(j<i+1):\n",
    "        print(' ', end = \"\")\n",
    "        j = j+1\n",
    "\n",
    "    j=0\n",
    "    while(j < n//2-i):\n",
    "        print(\"*\", end = '')\n",
    "        j = j+1\n",
    "\n",
    "    j = 0\n",
    "    while ( j < n//2 - i - 1):\n",
    "        print(\"*\", end = '')\n",
    "        j = j+1\n",
    "\n",
    "    print()\n",
    "    i = i+1\n"
   ]
  },
  {
   "cell_type": "code",
   "execution_count": null,
   "id": "223463aa",
   "metadata": {},
   "outputs": [],
   "source": []
  }
 ],
 "metadata": {
  "kernelspec": {
   "display_name": "Python 3 (ipykernel)",
   "language": "python",
   "name": "python3"
  },
  "language_info": {
   "codemirror_mode": {
    "name": "ipython",
    "version": 3
   },
   "file_extension": ".py",
   "mimetype": "text/x-python",
   "name": "python",
   "nbconvert_exporter": "python",
   "pygments_lexer": "ipython3",
   "version": "3.9.12"
  }
 },
 "nbformat": 4,
 "nbformat_minor": 5
}
