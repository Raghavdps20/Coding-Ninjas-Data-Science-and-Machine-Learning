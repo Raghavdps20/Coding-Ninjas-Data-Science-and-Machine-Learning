{
 "cells": [
  {
   "cell_type": "code",
   "execution_count": 1,
   "id": "8ac58c5a",
   "metadata": {},
   "outputs": [
    {
     "name": "stdout",
     "output_type": "stream",
     "text": [
      "5\n",
      "    1\n",
      "   12\n",
      "  123\n",
      " 1234\n",
      "12345\n"
     ]
    }
   ],
   "source": [
    "n = int(input())\n",
    "\n",
    "i=0\n",
    "\n",
    "while(i<n):\n",
    "\n",
    "    j=0\n",
    "    while j < n-i - 1:\n",
    "        print(\" \", end = \"\")\n",
    "        j = j+1\n",
    "    \n",
    "    j=0\n",
    "    k = 1\n",
    "    while j < i+1:\n",
    "        print(k, end =\"\")\n",
    "        j = j + 1\n",
    "        k = k+1 \n",
    "\n",
    "    print()\n",
    "    i = i+1"
   ]
  },
  {
   "cell_type": "code",
   "execution_count": null,
   "id": "f86f523a",
   "metadata": {},
   "outputs": [],
   "source": []
  }
 ],
 "metadata": {
  "kernelspec": {
   "display_name": "Python 3 (ipykernel)",
   "language": "python",
   "name": "python3"
  },
  "language_info": {
   "codemirror_mode": {
    "name": "ipython",
    "version": 3
   },
   "file_extension": ".py",
   "mimetype": "text/x-python",
   "name": "python",
   "nbconvert_exporter": "python",
   "pygments_lexer": "ipython3",
   "version": "3.9.12"
  }
 },
 "nbformat": 4,
 "nbformat_minor": 5
}
