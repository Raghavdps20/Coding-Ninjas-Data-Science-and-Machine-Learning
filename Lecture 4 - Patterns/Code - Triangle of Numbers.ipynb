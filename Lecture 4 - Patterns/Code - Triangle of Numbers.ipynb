{
 "cells": [
  {
   "cell_type": "code",
   "execution_count": 2,
   "id": "aaaa5740",
   "metadata": {},
   "outputs": [
    {
     "name": "stdout",
     "output_type": "stream",
     "text": [
      "5\n",
      "    1\n",
      "   232\n",
      "  34543\n",
      " 4567654\n",
      "567898765\n"
     ]
    }
   ],
   "source": [
    "from math import *\n",
    "from collections import *\n",
    "from sys import *\n",
    "from os import *\n",
    "\n",
    "## Read input as specified in the question.\n",
    "## Print output as specified in the question.\n",
    "\n",
    "n = int(input())\n",
    "\n",
    "i = 0\n",
    "\n",
    "while(i<n):\n",
    "\n",
    "    j=0\n",
    "    while(j<n-i-1):\n",
    "        print( ' ', end = \"\")\n",
    "        j = j+1\n",
    "\n",
    "    j=0\n",
    "    k= i+1\n",
    "    while(j <= i):\n",
    "        print(k, end = '')\n",
    "        j = j+1\n",
    "        k = k + 1\n",
    "\n",
    "    j = 0\n",
    "    k = 2*i\n",
    "    while ( j < i):\n",
    "        print(k, end = '')\n",
    "        j = j+1\n",
    "        k = k - 1\n",
    "\n",
    "    print()\n",
    "    i = i+1"
   ]
  },
  {
   "cell_type": "code",
   "execution_count": null,
   "id": "808146e2",
   "metadata": {},
   "outputs": [],
   "source": []
  }
 ],
 "metadata": {
  "kernelspec": {
   "display_name": "Python 3 (ipykernel)",
   "language": "python",
   "name": "python3"
  },
  "language_info": {
   "codemirror_mode": {
    "name": "ipython",
    "version": 3
   },
   "file_extension": ".py",
   "mimetype": "text/x-python",
   "name": "python",
   "nbconvert_exporter": "python",
   "pygments_lexer": "ipython3",
   "version": "3.9.12"
  }
 },
 "nbformat": 4,
 "nbformat_minor": 5
}
